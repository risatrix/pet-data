{
 "cells": [
  {
   "cell_type": "code",
   "execution_count": 21,
   "metadata": {},
   "outputs": [],
   "source": [
    "import numpy as np\n",
    "import pandas as pd\n",
    "\n",
    "from uszipcode import SearchEngine"
   ]
  },
  {
   "cell_type": "code",
   "execution_count": 22,
   "metadata": {},
   "outputs": [],
   "source": [
    "pets = pd.read_csv('~/pets/Seattle_Pet_Licenses.csv', encoding='latin-1')\n",
    "\n",
    "# shorten the names and remove punctuation & case for ease of coding\n",
    "pets = pets.rename(columns={\"License Issue Date\": \"issue_date\", \"License Number\": \"license_number\", \n",
    "                            \"Animal's Name\": \"animal_name\", \"Species\": \"species\", \"Primary Breed\": \"primary_breed\",\n",
    "                            \"Secondary Breed\": \"secondary_breed\", \"ZIP Code\": \"zip\",\n",
    "                           })\n",
    "\n",
    "pets.issue_date = pd.to_datetime(pets.issue_date)\n",
    "pets['value'] = 1"
   ]
  },
  {
   "cell_type": "code",
   "execution_count": 23,
   "metadata": {},
   "outputs": [],
   "source": [
    "# Clean the zip code data \n",
    "pets = pets[pets[\"zip\"].notna()]\n",
    "\n",
    "# remove last four digits of zip if they're there\n",
    "def clean_zip(raw):\n",
    "    if (len(raw) > 5):\n",
    "        raw = raw.split('-')[0]\n",
    "    return str(raw)\n",
    "\n",
    "pets['cleaned_zip'] = pets['zip'].apply(clean_zip)\n",
    "\n",
    "# remove some other random stuff I found\n",
    "pets = pets[pets['cleaned_zip'].map(len) == 5]\n",
    "pets = pets[pets.cleaned_zip != \"98`78\"]\n",
    "\n",
    "\n",
    "pets.issue_date = pd.to_datetime(pets.issue_date)\n",
    "pets['year'] = pets['issue_date'].apply(lambda x: x.isocalendar()[0])"
   ]
  },
  {
   "cell_type": "code",
   "execution_count": 24,
   "metadata": {},
   "outputs": [
    {
     "data": {
      "text/html": [
       "<div>\n",
       "<style scoped>\n",
       "    .dataframe tbody tr th:only-of-type {\n",
       "        vertical-align: middle;\n",
       "    }\n",
       "\n",
       "    .dataframe tbody tr th {\n",
       "        vertical-align: top;\n",
       "    }\n",
       "\n",
       "    .dataframe thead th {\n",
       "        text-align: right;\n",
       "    }\n",
       "</style>\n",
       "<table border=\"1\" class=\"dataframe\">\n",
       "  <thead>\n",
       "    <tr style=\"text-align: right;\">\n",
       "      <th>species</th>\n",
       "      <th>cleaned_zip</th>\n",
       "      <th>Cat</th>\n",
       "      <th>Dog</th>\n",
       "      <th>Goat</th>\n",
       "      <th>Pig</th>\n",
       "    </tr>\n",
       "  </thead>\n",
       "  <tbody>\n",
       "    <tr>\n",
       "      <th>0</th>\n",
       "      <td>20650</td>\n",
       "      <td>2.0</td>\n",
       "      <td>0.0</td>\n",
       "      <td>0.0</td>\n",
       "      <td>0.0</td>\n",
       "    </tr>\n",
       "    <tr>\n",
       "      <th>1</th>\n",
       "      <td>21771</td>\n",
       "      <td>2.0</td>\n",
       "      <td>0.0</td>\n",
       "      <td>0.0</td>\n",
       "      <td>0.0</td>\n",
       "    </tr>\n",
       "    <tr>\n",
       "      <th>2</th>\n",
       "      <td>27601</td>\n",
       "      <td>1.0</td>\n",
       "      <td>0.0</td>\n",
       "      <td>0.0</td>\n",
       "      <td>0.0</td>\n",
       "    </tr>\n",
       "    <tr>\n",
       "      <th>3</th>\n",
       "      <td>52246</td>\n",
       "      <td>1.0</td>\n",
       "      <td>0.0</td>\n",
       "      <td>0.0</td>\n",
       "      <td>0.0</td>\n",
       "    </tr>\n",
       "    <tr>\n",
       "      <th>4</th>\n",
       "      <td>60134</td>\n",
       "      <td>1.0</td>\n",
       "      <td>0.0</td>\n",
       "      <td>0.0</td>\n",
       "      <td>0.0</td>\n",
       "    </tr>\n",
       "  </tbody>\n",
       "</table>\n",
       "</div>"
      ],
      "text/plain": [
       "species cleaned_zip  Cat  Dog  Goat  Pig\n",
       "0             20650  2.0  0.0   0.0  0.0\n",
       "1             21771  2.0  0.0   0.0  0.0\n",
       "2             27601  1.0  0.0   0.0  0.0\n",
       "3             52246  1.0  0.0   0.0  0.0\n",
       "4             60134  1.0  0.0   0.0  0.0"
      ]
     },
     "execution_count": 24,
     "metadata": {},
     "output_type": "execute_result"
    }
   ],
   "source": [
    "# let's just use 2019 since it has the most adoptions\n",
    "pets_short = pets[pets['year']==2019]\n",
    "\n",
    "#make a pivot table of the number of animals in each zip\n",
    "pets_pivot = pd.pivot_table(pets_short, values='value', index='cleaned_zip', columns='species', aggfunc=np.sum).reset_index()\n",
    "pets_pivot=pets_pivot.fillna(0)\n",
    "\n",
    "pets_pivot.head()"
   ]
  },
  {
   "cell_type": "code",
   "execution_count": 25,
   "metadata": {},
   "outputs": [],
   "source": [
    "# add some data using us zip code\n",
    "search = SearchEngine(simple_zipcode=False)\n",
    "\n",
    "def get_state(zip):\n",
    "    result=search.by_zipcode(zip)\n",
    "    return result.state\n",
    "\n",
    "def get_pop(zip):\n",
    "    result=search.by_zipcode(zip)\n",
    "    return result.population\n",
    "\n",
    "def get_income(zip):\n",
    "    result=search.by_zipcode(zip)\n",
    "    return result.median_household_income\n",
    "\n",
    "pets_pivot['state'] = pets_pivot['cleaned_zip'].apply(lambda s: get_state(s))\n",
    "pets_pivot['population'] = pets_pivot['cleaned_zip'].apply(lambda s: get_pop(s))\n",
    "pets_pivot['median_income'] = pets_pivot['cleaned_zip'].apply(lambda s: get_income(s))"
   ]
  },
  {
   "cell_type": "code",
   "execution_count": 27,
   "metadata": {},
   "outputs": [],
   "source": [
    "# Get rid of non-WA data\n",
    "pets_pivot = pets_pivot[pets_pivot.state==\"WA\"]"
   ]
  },
  {
   "cell_type": "code",
   "execution_count": 28,
   "metadata": {},
   "outputs": [],
   "source": [
    "# use uszipcode to find percentage of rentals in a given zip codde\n",
    "def find_rentals(zip):\n",
    "    #print(zip)\n",
    "    zipcode = search.by_zipcode(zip)\n",
    "    zipcode.to_dict()\n",
    "    if zipcode.housing_occupancy != None:\n",
    "        obj = zipcode.housing_occupancy[0]['values']\n",
    "        mortgaged = obj[0]['y']\n",
    "        owned = obj[1]['y']\n",
    "        rented = obj[2]['y']\n",
    "        vacant = obj[3]['y']\n",
    "        total = mortgaged + owned + rented + vacant\n",
    "        rentals = rented/total\n",
    "    else:\n",
    "        rentals = ''\n",
    "    return rentals\n",
    "\n",
    "\n",
    "# add percent rentals to the pivot table\n",
    "pets_pivot['percent_rentals'] = pets_pivot['cleaned_zip'].apply(lambda s: find_rentals(s))"
   ]
  },
  {
   "cell_type": "code",
   "execution_count": 29,
   "metadata": {},
   "outputs": [],
   "source": [
    "pets_pivot\n",
    "pets_pivot=pets_pivot.fillna(0)"
   ]
  },
  {
   "cell_type": "code",
   "execution_count": 30,
   "metadata": {},
   "outputs": [],
   "source": [
    "sum_columns = pets_pivot['Cat'] + pets_pivot['Dog']\n",
    "pets_pivot[\"total_animals\"] = sum_columns\n",
    "\n",
    "count_dogs = pets_pivot['Dog']/pets_pivot['total_animals']\n",
    "pets_pivot['percent_dogs'] = count_dogs\n",
    "\n",
    "count_cats = pets_pivot['Cat']/pets_pivot['total_animals']\n",
    "pets_pivot['percent_cats'] = count_cats"
   ]
  },
  {
   "cell_type": "code",
   "execution_count": 31,
   "metadata": {},
   "outputs": [],
   "source": [
    "#export finished pivot table\n",
    "pets_pivot.to_csv('pets_pivot.csv', index=False)"
   ]
  },
  {
   "cell_type": "code",
   "execution_count": 32,
   "metadata": {},
   "outputs": [
    {
     "data": {
      "text/html": [
       "<div>\n",
       "<style scoped>\n",
       "    .dataframe tbody tr th:only-of-type {\n",
       "        vertical-align: middle;\n",
       "    }\n",
       "\n",
       "    .dataframe tbody tr th {\n",
       "        vertical-align: top;\n",
       "    }\n",
       "\n",
       "    .dataframe thead th {\n",
       "        text-align: right;\n",
       "    }\n",
       "</style>\n",
       "<table border=\"1\" class=\"dataframe\">\n",
       "  <thead>\n",
       "    <tr style=\"text-align: right;\">\n",
       "      <th>species</th>\n",
       "      <th>cleaned_zip</th>\n",
       "      <th>Cat</th>\n",
       "      <th>Dog</th>\n",
       "      <th>Goat</th>\n",
       "      <th>Pig</th>\n",
       "      <th>state</th>\n",
       "      <th>population</th>\n",
       "      <th>median_income</th>\n",
       "      <th>percent_rentals</th>\n",
       "      <th>total_animals</th>\n",
       "      <th>percent_dogs</th>\n",
       "      <th>percent_cats</th>\n",
       "    </tr>\n",
       "  </thead>\n",
       "  <tbody>\n",
       "    <tr>\n",
       "      <th>12</th>\n",
       "      <td>98001</td>\n",
       "      <td>0.0</td>\n",
       "      <td>1.0</td>\n",
       "      <td>0.0</td>\n",
       "      <td>0.0</td>\n",
       "      <td>WA</td>\n",
       "      <td>31911.0</td>\n",
       "      <td>71746.0</td>\n",
       "      <td>0.210952</td>\n",
       "      <td>1.0</td>\n",
       "      <td>1.0</td>\n",
       "      <td>0.0</td>\n",
       "    </tr>\n",
       "    <tr>\n",
       "      <th>13</th>\n",
       "      <td>98003</td>\n",
       "      <td>2.0</td>\n",
       "      <td>0.0</td>\n",
       "      <td>0.0</td>\n",
       "      <td>0.0</td>\n",
       "      <td>WA</td>\n",
       "      <td>44151.0</td>\n",
       "      <td>45894.0</td>\n",
       "      <td>0.4757</td>\n",
       "      <td>2.0</td>\n",
       "      <td>0.0</td>\n",
       "      <td>1.0</td>\n",
       "    </tr>\n",
       "    <tr>\n",
       "      <th>14</th>\n",
       "      <td>98004</td>\n",
       "      <td>2.0</td>\n",
       "      <td>8.0</td>\n",
       "      <td>0.0</td>\n",
       "      <td>0.0</td>\n",
       "      <td>WA</td>\n",
       "      <td>27946.0</td>\n",
       "      <td>93521.0</td>\n",
       "      <td>0.402342</td>\n",
       "      <td>10.0</td>\n",
       "      <td>0.8</td>\n",
       "      <td>0.2</td>\n",
       "    </tr>\n",
       "    <tr>\n",
       "      <th>15</th>\n",
       "      <td>98005</td>\n",
       "      <td>0.0</td>\n",
       "      <td>2.0</td>\n",
       "      <td>0.0</td>\n",
       "      <td>0.0</td>\n",
       "      <td>WA</td>\n",
       "      <td>17714.0</td>\n",
       "      <td>84774.0</td>\n",
       "      <td>0.393804</td>\n",
       "      <td>2.0</td>\n",
       "      <td>1.0</td>\n",
       "      <td>0.0</td>\n",
       "    </tr>\n",
       "    <tr>\n",
       "      <th>16</th>\n",
       "      <td>98006</td>\n",
       "      <td>0.0</td>\n",
       "      <td>3.0</td>\n",
       "      <td>0.0</td>\n",
       "      <td>0.0</td>\n",
       "      <td>WA</td>\n",
       "      <td>36364.0</td>\n",
       "      <td>110290.0</td>\n",
       "      <td>0.189907</td>\n",
       "      <td>3.0</td>\n",
       "      <td>1.0</td>\n",
       "      <td>0.0</td>\n",
       "    </tr>\n",
       "  </tbody>\n",
       "</table>\n",
       "</div>"
      ],
      "text/plain": [
       "species cleaned_zip  Cat  Dog  Goat  Pig state  population  median_income  \\\n",
       "12            98001  0.0  1.0   0.0  0.0    WA     31911.0        71746.0   \n",
       "13            98003  2.0  0.0   0.0  0.0    WA     44151.0        45894.0   \n",
       "14            98004  2.0  8.0   0.0  0.0    WA     27946.0        93521.0   \n",
       "15            98005  0.0  2.0   0.0  0.0    WA     17714.0        84774.0   \n",
       "16            98006  0.0  3.0   0.0  0.0    WA     36364.0       110290.0   \n",
       "\n",
       "species percent_rentals  total_animals  percent_dogs  percent_cats  \n",
       "12             0.210952            1.0           1.0           0.0  \n",
       "13               0.4757            2.0           0.0           1.0  \n",
       "14             0.402342           10.0           0.8           0.2  \n",
       "15             0.393804            2.0           1.0           0.0  \n",
       "16             0.189907            3.0           1.0           0.0  "
      ]
     },
     "execution_count": 32,
     "metadata": {},
     "output_type": "execute_result"
    }
   ],
   "source": [
    "pets_pivot.head()"
   ]
  },
  {
   "cell_type": "code",
   "execution_count": 13,
   "metadata": {},
   "outputs": [],
   "source": [
    "pets_pivot = pets_pivot[pets_pivot['percent_rentals'] != \"\"]\n",
    "\n",
    "rentals = pets_pivot['percent_rentals'].astype(float)\n",
    "cats = pets_pivot['percent_cats'].astype(float)"
   ]
  },
  {
   "cell_type": "code",
   "execution_count": 14,
   "metadata": {},
   "outputs": [
    {
     "data": {
      "text/plain": [
       "0.011005109512279848"
      ]
     },
     "execution_count": 14,
     "metadata": {},
     "output_type": "execute_result"
    }
   ],
   "source": [
    "rentals.corr(cats)"
   ]
  },
  {
   "cell_type": "code",
   "execution_count": 20,
   "metadata": {},
   "outputs": [
    {
     "data": {
      "text/plain": [
       "0.09769196751094239"
      ]
     },
     "execution_count": 20,
     "metadata": {},
     "output_type": "execute_result"
    }
   ],
   "source": [
    "total_animals = pets_pivot['total_animals'].astype(float)\n",
    "population = pets_pivot['population'].astype(float)\n",
    "\n",
    "population.corr(total_animals)"
   ]
  },
  {
   "cell_type": "code",
   "execution_count": 15,
   "metadata": {},
   "outputs": [
    {
     "data": {
      "text/plain": [
       "(array([ 8., 11., 14., 12., 16.,  9.,  6.,  8.,  2.,  2.]),\n",
       " array([0.08392156862745098, 0.15376829128746558, 0.22361501394748018,\n",
       "        0.29346173660749475, 0.3633084592675094, 0.43315518192752395,\n",
       "        0.5030019045875386, 0.5728486272475533, 0.6426953499075678,\n",
       "        0.7125420725675824, 0.782388795227597], dtype=object),\n",
       " <a list of 10 Patch objects>)"
      ]
     },
     "execution_count": 15,
     "metadata": {},
     "output_type": "execute_result"
    },
    {
     "data": {
      "image/png": "[encoded data removed]",
      "text/plain": [
       "<Figure size 432x288 with 1 Axes>"
      ]
     },
     "metadata": {
      "needs_background": "light"
     },
     "output_type": "display_data"
    }
   ],
   "source": [
    "import matplotlib.pyplot as plt\n",
    "\n",
    "\n",
    "plt.hist(pets_pivot['percent_rentals'], bins=10)"
   ]
  },
  {
   "cell_type": "code",
   "execution_count": 16,
   "metadata": {},
   "outputs": [
    {
     "data": {
      "text/plain": [
       "(array([27.,  0.,  3.,  7., 20.,  6.,  3.,  1.,  0., 21.]),\n",
       " array([0. , 0.1, 0.2, 0.3, 0.4, 0.5, 0.6, 0.7, 0.8, 0.9, 1. ]),\n",
       " <a list of 10 Patch objects>)"
      ]
     },
     "execution_count": 16,
     "metadata": {},
     "output_type": "execute_result"
    },
    {
     "data": {
      "image/png": "[encoded data removed]",
      "text/plain": [
       "<Figure size 432x288 with 1 Axes>"
      ]
     },
     "metadata": {
      "needs_background": "light"
     },
     "output_type": "display_data"
    }
   ],
   "source": [
    "plt.hist(pets_pivot['percent_cats'], bins=10)"
   ]
  },
  {
   "cell_type": "code",
   "execution_count": 17,
   "metadata": {},
   "outputs": [
    {
     "data": {
      "text/plain": [
       "(array([21.,  0.,  1.,  3.,  4., 22.,  7.,  2.,  1., 27.]),\n",
       " array([0. , 0.1, 0.2, 0.3, 0.4, 0.5, 0.6, 0.7, 0.8, 0.9, 1. ]),\n",
       " <a list of 10 Patch objects>)"
      ]
     },
     "execution_count": 17,
     "metadata": {},
     "output_type": "execute_result"
    },
    {
     "data": {
      "image/png": "[encoded data removed]",
      "text/plain": [
       "<Figure size 432x288 with 1 Axes>"
      ]
     },
     "metadata": {
      "needs_background": "light"
     },
     "output_type": "display_data"
    }
   ],
   "source": [
    "plt.hist(pets_pivot['percent_dogs'], bins=10)"
   ]
  },
  {
   "cell_type": "code",
   "execution_count": null,
   "metadata": {},
   "outputs": [],
   "source": [
    "!pip install folium\n",
    "import folium"
   ]
  },
  {
   "cell_type": "code",
   "execution_count": null,
   "metadata": {},
   "outputs": [],
   "source": [
    "Seattle_map = folium.Map(location=[47.6062100,-122.3320700], tiles='Stamen Toner', zoom_start=9)"
   ]
  },
  {
   "cell_type": "code",
   "execution_count": null,
   "metadata": {},
   "outputs": [],
   "source": []
  }
 ],
 "metadata": {
  "kernelspec": {
   "display_name": "Python 3",
   "language": "python",
   "name": "python3"
  },
  "language_info": {
   "codemirror_mode": {
    "name": "ipython",
    "version": 3
   },
   "file_extension": ".py",
   "mimetype": "text/x-python",
   "name": "python",
   "nbconvert_exporter": "python",
   "pygments_lexer": "ipython3",
   "version": "3.7.7"
  }
 },
 "nbformat": 4,
 "nbformat_minor": 4
}
